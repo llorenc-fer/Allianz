{
 "cells": [
  {
   "cell_type": "code",
   "execution_count": 2,
   "metadata": {},
   "outputs": [],
   "source": [
    "import pandas as pd\n",
    "import numpy as np\n",
    "from pandas_profiling import ProfileReport\n",
    "import matplotlib.pyplot as plt\n",
    "import seaborn as sns\n"
   ]
  },
  {
   "cell_type": "code",
   "execution_count": 3,
   "metadata": {},
   "outputs": [
    {
     "data": {
      "text/plain": [
       "(33287, 25)"
      ]
     },
     "execution_count": 3,
     "metadata": {},
     "output_type": "execute_result"
    }
   ],
   "source": [
    "df = pd.read_csv('filename.csv')\n",
    "df_final = pd.read_csv('DF_VF.csv')\n",
    "df_final.shape"
   ]
  },
  {
   "cell_type": "code",
   "execution_count": 4,
   "metadata": {},
   "outputs": [],
   "source": [
    "profile = ProfileReport(df_final, title=\"EDA_Datathon\")"
   ]
  },
  {
   "cell_type": "code",
   "execution_count": 6,
   "metadata": {},
   "outputs": [
    {
     "data": {
      "text/html": [
       "<div>\n",
       "<style scoped>\n",
       "    .dataframe tbody tr th:only-of-type {\n",
       "        vertical-align: middle;\n",
       "    }\n",
       "\n",
       "    .dataframe tbody tr th {\n",
       "        vertical-align: top;\n",
       "    }\n",
       "\n",
       "    .dataframe thead th {\n",
       "        text-align: right;\n",
       "    }\n",
       "</style>\n",
       "<table border=\"1\" class=\"dataframe\">\n",
       "  <thead>\n",
       "    <tr style=\"text-align: right;\">\n",
       "      <th></th>\n",
       "      <th>ID</th>\n",
       "      <th>count</th>\n",
       "      <th>Paid</th>\n",
       "      <th>Ratio</th>\n",
       "      <th>CODE_GENDER</th>\n",
       "      <th>FLAG_OWN_CAR</th>\n",
       "      <th>FLAG_OWN_REALTY</th>\n",
       "      <th>CNT_CHILDREN</th>\n",
       "      <th>AMT_INCOME_TOTAL</th>\n",
       "      <th>NAME_INCOME_TYPE</th>\n",
       "      <th>...</th>\n",
       "      <th>FLAG_WORK_PHONE</th>\n",
       "      <th>FLAG_PHONE</th>\n",
       "      <th>FLAG_EMAIL</th>\n",
       "      <th>OCCUPATION_TYPE</th>\n",
       "      <th>CNT_FAM_MEMBERS</th>\n",
       "      <th>DAYS_BIRTH_CLEAN</th>\n",
       "      <th>Letter</th>\n",
       "      <th>Main_ID</th>\n",
       "      <th>New_ID</th>\n",
       "      <th>ADDRESS</th>\n",
       "    </tr>\n",
       "  </thead>\n",
       "  <tbody>\n",
       "    <tr>\n",
       "      <th>0</th>\n",
       "      <td>5008804</td>\n",
       "      <td>15</td>\n",
       "      <td>13.0</td>\n",
       "      <td>0.866667</td>\n",
       "      <td>M</td>\n",
       "      <td>Y</td>\n",
       "      <td>Y</td>\n",
       "      <td>0.0</td>\n",
       "      <td>427500.0</td>\n",
       "      <td>Working</td>\n",
       "      <td>...</td>\n",
       "      <td>1.0</td>\n",
       "      <td>0.0</td>\n",
       "      <td>0.0</td>\n",
       "      <td>NaN</td>\n",
       "      <td>2.0</td>\n",
       "      <td>09/04/1990</td>\n",
       "      <td>L</td>\n",
       "      <td>5008804</td>\n",
       "      <td>5008804</td>\n",
       "      <td>06042, CT, 31 Mitchell Road</td>\n",
       "    </tr>\n",
       "    <tr>\n",
       "      <th>1</th>\n",
       "      <td>5008804</td>\n",
       "      <td>15</td>\n",
       "      <td>13.0</td>\n",
       "      <td>0.866667</td>\n",
       "      <td>F</td>\n",
       "      <td>N</td>\n",
       "      <td>Y</td>\n",
       "      <td>1.0</td>\n",
       "      <td>90000.0</td>\n",
       "      <td>State servant</td>\n",
       "      <td>...</td>\n",
       "      <td>0.0</td>\n",
       "      <td>0.0</td>\n",
       "      <td>0.0</td>\n",
       "      <td>Medicine staff</td>\n",
       "      <td>3.0</td>\n",
       "      <td>07/06/1984</td>\n",
       "      <td>L</td>\n",
       "      <td>5008804</td>\n",
       "      <td>5008804</td>\n",
       "      <td>06042, CT, 31 Mitchell Road</td>\n",
       "    </tr>\n",
       "    <tr>\n",
       "      <th>2</th>\n",
       "      <td>5008805</td>\n",
       "      <td>14</td>\n",
       "      <td>12.0</td>\n",
       "      <td>0.857143</td>\n",
       "      <td>M</td>\n",
       "      <td>Y</td>\n",
       "      <td>Y</td>\n",
       "      <td>0.0</td>\n",
       "      <td>427500.0</td>\n",
       "      <td>Working</td>\n",
       "      <td>...</td>\n",
       "      <td>1.0</td>\n",
       "      <td>0.0</td>\n",
       "      <td>0.0</td>\n",
       "      <td>NaN</td>\n",
       "      <td>2.0</td>\n",
       "      <td>09/04/1990</td>\n",
       "      <td>G</td>\n",
       "      <td>5008805</td>\n",
       "      <td>5008805</td>\n",
       "      <td>72703, AR, 1189 Northwest End Avenue</td>\n",
       "    </tr>\n",
       "    <tr>\n",
       "      <th>3</th>\n",
       "      <td>5008805</td>\n",
       "      <td>14</td>\n",
       "      <td>12.0</td>\n",
       "      <td>0.857143</td>\n",
       "      <td>M</td>\n",
       "      <td>N</td>\n",
       "      <td>Y</td>\n",
       "      <td>0.0</td>\n",
       "      <td>180000.0</td>\n",
       "      <td>Working</td>\n",
       "      <td>...</td>\n",
       "      <td>0.0</td>\n",
       "      <td>0.0</td>\n",
       "      <td>0.0</td>\n",
       "      <td>Sales staff</td>\n",
       "      <td>2.0</td>\n",
       "      <td>21/02/1995</td>\n",
       "      <td>G</td>\n",
       "      <td>5008805</td>\n",
       "      <td>5008805</td>\n",
       "      <td>72703, AR, 1189 Northwest End Avenue</td>\n",
       "    </tr>\n",
       "    <tr>\n",
       "      <th>4</th>\n",
       "      <td>5008806</td>\n",
       "      <td>14</td>\n",
       "      <td>7.0</td>\n",
       "      <td>0.500000</td>\n",
       "      <td>M</td>\n",
       "      <td>Y</td>\n",
       "      <td>Y</td>\n",
       "      <td>0.0</td>\n",
       "      <td>112500.0</td>\n",
       "      <td>Working</td>\n",
       "      <td>...</td>\n",
       "      <td>0.0</td>\n",
       "      <td>0.0</td>\n",
       "      <td>0.0</td>\n",
       "      <td>Security staff</td>\n",
       "      <td>2.0</td>\n",
       "      <td>06/05/1964</td>\n",
       "      <td>D</td>\n",
       "      <td>5008806</td>\n",
       "      <td>5008806</td>\n",
       "      <td>72701, AR, 218 Shipley Alley</td>\n",
       "    </tr>\n",
       "  </tbody>\n",
       "</table>\n",
       "<p>5 rows × 25 columns</p>\n",
       "</div>"
      ],
      "text/plain": [
       "        ID  count  Paid     Ratio CODE_GENDER FLAG_OWN_CAR FLAG_OWN_REALTY  \\\n",
       "0  5008804     15  13.0  0.866667           M            Y               Y   \n",
       "1  5008804     15  13.0  0.866667           F            N               Y   \n",
       "2  5008805     14  12.0  0.857143           M            Y               Y   \n",
       "3  5008805     14  12.0  0.857143           M            N               Y   \n",
       "4  5008806     14   7.0  0.500000           M            Y               Y   \n",
       "\n",
       "   CNT_CHILDREN  AMT_INCOME_TOTAL NAME_INCOME_TYPE  ... FLAG_WORK_PHONE  \\\n",
       "0           0.0          427500.0          Working  ...             1.0   \n",
       "1           1.0           90000.0    State servant  ...             0.0   \n",
       "2           0.0          427500.0          Working  ...             1.0   \n",
       "3           0.0          180000.0          Working  ...             0.0   \n",
       "4           0.0          112500.0          Working  ...             0.0   \n",
       "\n",
       "  FLAG_PHONE FLAG_EMAIL  OCCUPATION_TYPE  CNT_FAM_MEMBERS  DAYS_BIRTH_CLEAN  \\\n",
       "0        0.0        0.0              NaN              2.0        09/04/1990   \n",
       "1        0.0        0.0   Medicine staff              3.0        07/06/1984   \n",
       "2        0.0        0.0              NaN              2.0        09/04/1990   \n",
       "3        0.0        0.0      Sales staff              2.0        21/02/1995   \n",
       "4        0.0        0.0   Security staff              2.0        06/05/1964   \n",
       "\n",
       "   Letter  Main_ID   New_ID                               ADDRESS  \n",
       "0       L  5008804  5008804           06042, CT, 31 Mitchell Road  \n",
       "1       L  5008804  5008804           06042, CT, 31 Mitchell Road  \n",
       "2       G  5008805  5008805  72703, AR, 1189 Northwest End Avenue  \n",
       "3       G  5008805  5008805  72703, AR, 1189 Northwest End Avenue  \n",
       "4       D  5008806  5008806          72701, AR, 218 Shipley Alley  \n",
       "\n",
       "[5 rows x 25 columns]"
      ]
     },
     "execution_count": 6,
     "metadata": {},
     "output_type": "execute_result"
    }
   ],
   "source": [
    "df_final.head()"
   ]
  },
  {
   "cell_type": "code",
   "execution_count": 7,
   "metadata": {},
   "outputs": [
    {
     "data": {
      "application/vnd.jupyter.widget-view+json": {
       "model_id": "e104f61bec9447fcbce8c338821b8cdd",
       "version_major": 2,
       "version_minor": 0
      },
      "text/plain": [
       "Summarize dataset:   0%|          | 0/5 [00:00<?, ?it/s]"
      ]
     },
     "metadata": {},
     "output_type": "display_data"
    },
    {
     "data": {
      "application/vnd.jupyter.widget-view+json": {
       "model_id": "7a79e35877204320b0b660c175494174",
       "version_major": 2,
       "version_minor": 0
      },
      "text/plain": [
       "Generate report structure:   0%|          | 0/1 [00:00<?, ?it/s]"
      ]
     },
     "metadata": {},
     "output_type": "display_data"
    },
    {
     "data": {
      "application/vnd.jupyter.widget-view+json": {
       "model_id": "d726721269da491cace471deff165b14",
       "version_major": 2,
       "version_minor": 0
      },
      "text/plain": [
       "Render HTML:   0%|          | 0/1 [00:00<?, ?it/s]"
      ]
     },
     "metadata": {},
     "output_type": "display_data"
    }
   ],
   "source": [
    "profile"
   ]
  },
  {
   "cell_type": "code",
   "execution_count": null,
   "metadata": {},
   "outputs": [
    {
     "name": "stdout",
     "output_type": "stream",
     "text": [
      "<class 'pandas.core.frame.DataFrame'>\n",
      "RangeIndex: 33287 entries, 0 to 33286\n",
      "Data columns (total 25 columns):\n",
      " #   Column               Non-Null Count  Dtype  \n",
      "---  ------               --------------  -----  \n",
      " 0   ID                   33287 non-null  int64  \n",
      " 1   count                33287 non-null  int64  \n",
      " 2   Paid                 18049 non-null  float64\n",
      " 3   Ratio                18049 non-null  float64\n",
      " 4   CODE_GENDER          32470 non-null  object \n",
      " 5   FLAG_OWN_CAR         32464 non-null  object \n",
      " 6   FLAG_OWN_REALTY      32461 non-null  object \n",
      " 7   CNT_CHILDREN         32474 non-null  float64\n",
      " 8   AMT_INCOME_TOTAL     32485 non-null  float64\n",
      " 9   NAME_INCOME_TYPE     32442 non-null  object \n",
      " 10  NAME_EDUCATION_TYPE  32438 non-null  object \n",
      " 11  NAME_FAMILY_STATUS   32479 non-null  object \n",
      " 12  NAME_HOUSING_TYPE    32464 non-null  object \n",
      " 13  DAYS_EMPLOYED        32450 non-null  float64\n",
      " 14  FLAG_MOBIL           32495 non-null  float64\n",
      " 15  FLAG_WORK_PHONE      32469 non-null  float64\n",
      " 16  FLAG_PHONE           32413 non-null  float64\n",
      " 17  FLAG_EMAIL           32468 non-null  float64\n",
      " 18  OCCUPATION_TYPE      22293 non-null  object \n",
      " 19  CNT_FAM_MEMBERS      32524 non-null  float64\n",
      " 20  DAYS_BIRTH_CLEAN     32480 non-null  object \n",
      " 21  Letter               33287 non-null  object \n",
      " 22  Main_ID              33287 non-null  int64  \n",
      " 23  New_ID               33287 non-null  int64  \n",
      " 24  ADDRESS              33287 non-null  object \n",
      "dtypes: float64(10), int64(4), object(11)\n",
      "memory usage: 6.3+ MB\n"
     ]
    }
   ],
   "source": [
    "df_final.info() "
   ]
  },
  {
   "cell_type": "code",
   "execution_count": null,
   "metadata": {},
   "outputs": [
    {
     "name": "stdout",
     "output_type": "stream",
     "text": [
      "        ID  count  Paid     Ratio  CNT_CHILDREN  AMT_INCOME_TOTAL  \\\n",
      "0  5008804     15  13.0  0.866667           0.0          427500.0   \n",
      "1  5008804     15  13.0  0.866667           1.0           90000.0   \n",
      "2  5008805     14  12.0  0.857143           0.0          427500.0   \n",
      "3  5008805     14  12.0  0.857143           0.0          180000.0   \n",
      "4  5008806     14   7.0  0.500000           0.0          112500.0   \n",
      "\n",
      "   DAYS_EMPLOYED  FLAG_MOBIL  FLAG_WORK_PHONE  FLAG_PHONE  FLAG_EMAIL  \\\n",
      "0        -4542.0         1.0              1.0         0.0         0.0   \n",
      "1        -3659.0         1.0              0.0         0.0         0.0   \n",
      "2        -4542.0         1.0              1.0         0.0         0.0   \n",
      "3         -390.0         1.0              0.0         0.0         0.0   \n",
      "4        -1134.0         1.0              0.0         0.0         0.0   \n",
      "\n",
      "   CNT_FAM_MEMBERS  Main_ID   New_ID  \n",
      "0              2.0  5008804  5008804  \n",
      "1              3.0  5008804  5008804  \n",
      "2              2.0  5008805  5008805  \n",
      "3              2.0  5008805  5008805  \n",
      "4              2.0  5008806  5008806  \n",
      "  CODE_GENDER FLAG_OWN_CAR FLAG_OWN_REALTY NAME_INCOME_TYPE  \\\n",
      "0           M            Y               Y          Working   \n",
      "1           F            N               Y    State servant   \n",
      "2           M            Y               Y          Working   \n",
      "3           M            N               Y          Working   \n",
      "4           M            Y               Y          Working   \n",
      "\n",
      "             NAME_EDUCATION_TYPE NAME_FAMILY_STATUS  NAME_HOUSING_TYPE  \\\n",
      "0               Higher education     Civil marriage   Rented apartment   \n",
      "1  Secondary / secondary special            Married  House / apartment   \n",
      "2               Higher education     Civil marriage   Rented apartment   \n",
      "3               Higher education     Civil marriage       With parents   \n",
      "4  Secondary / secondary special            Married  House / apartment   \n",
      "\n",
      "  OCCUPATION_TYPE DAYS_BIRTH_CLEAN Letter  \\\n",
      "0             NaN       09/04/1990      L   \n",
      "1  Medicine staff       07/06/1984      L   \n",
      "2             NaN       09/04/1990      G   \n",
      "3     Sales staff       21/02/1995      G   \n",
      "4  Security staff       06/05/1964      D   \n",
      "\n",
      "                                ADDRESS  \n",
      "0           06042, CT, 31 Mitchell Road  \n",
      "1           06042, CT, 31 Mitchell Road  \n",
      "2  72703, AR, 1189 Northwest End Avenue  \n",
      "3  72703, AR, 1189 Northwest End Avenue  \n",
      "4          72701, AR, 218 Shipley Alley  \n"
     ]
    }
   ],
   "source": [
    "numeric_df = df_final.select_dtypes(include=[np.number])\n",
    "categorical_df = df_final.select_dtypes(exclude=[np.number])\n",
    "print(numeric_df.head())\n",
    "print(categorical_df.head())"
   ]
  },
  {
   "cell_type": "code",
   "execution_count": null,
   "metadata": {},
   "outputs": [
    {
     "data": {
      "text/plain": [
       "0        0.0\n",
       "1        1.0\n",
       "2        0.0\n",
       "3        0.0\n",
       "4        0.0\n",
       "        ... \n",
       "33282    1.0\n",
       "33283    1.0\n",
       "33284    NaN\n",
       "33285    1.0\n",
       "33286    0.0\n",
       "Name: CNT_CHILDREN, Length: 33287, dtype: float64"
      ]
     },
     "execution_count": 26,
     "metadata": {},
     "output_type": "execute_result"
    }
   ],
   "source": [
    "numeric_df['CNT_CHILDREN']"
   ]
  },
  {
   "cell_type": "code",
   "execution_count": null,
   "metadata": {},
   "outputs": [],
   "source": [
    "plt.figure(figsize = [26, 7])\n",
    "#\n",
    "# univariate plots of cut, color, and clarity grades\n",
    "plt.subplot(1, 3, 1)\n",
    "sns.boxplot(data=df_final, x='CNT_CHILDREN', y=df_final['CNT_CHILDREN'].count());\n",
    "plt.xlabel('Cut Quality')\n",
    "\n",
    "plt.subplot(1, 3, 2)\n",
    "sb.boxplot(data=diamonds, x='color', y='carat',  order= ['J', 'I', 'H', 'G', 'F', 'E', 'D']);\n",
    "plt.xlabel('Color Quality')\n",
    "\n",
    "plt.subplot(1, 3, 3)\n",
    "sb.boxplot(data=diamonds, x='clarity', y='carat', order= ['I1', 'SI2', 'SI1', 'VS2', 'VS1', 'VVS2', 'VVS1', 'IF']);\n",
    "plt.xlabel('Clarity Quality')   "
   ]
  },
  {
   "attachments": {},
   "cell_type": "markdown",
   "metadata": {},
   "source": [
    "## Utilizando el Modelo en el Negocio"
   ]
  },
  {
   "attachments": {},
   "cell_type": "markdown",
   "metadata": {},
   "source": [
    "Aplicar el modelo a la base de dados, para generar el Scoring. despues com la base ya con el SCORING (probabilidad que occura el evento) aplicamos la funcion abajo para separar-los en rangos de probabilidad de del evento y así definir que rango os ortogariamos la gratuidad automaticamiente y cuales seria denegados automaticamiente."
   ]
  },
  {
   "cell_type": "code",
   "execution_count": null,
   "metadata": {},
   "outputs": [],
   "source": [
    "def RankScore(input_score_df,nm_score,targetname,bins):\n",
    "    input_score_df['score'] = input_score_df[nm_score]\n",
    "    input_score_df['rank'] = pd.cut(input_score_df[nm_score], bins, labels=False)\n",
    "    df7 = input_score_df.groupby('rank').agg({targetname: np.mean, 'rank': np.size})\n",
    "    df7['id_ranks']=df7.index\n",
    "    df7['tx_evento']=df7[targetname]\n",
    "    df7['qt_rank']=df7['rank']\n",
    "    df7 = df7.drop(['rank',targetname],axis=1)\n",
    "    df7 = df7.reset_index()\n",
    "    df_ord_score = df7.drop(['rank'],axis=1) \n",
    "    return df_ord_score  "
   ]
  },
  {
   "cell_type": "code",
   "execution_count": null,
   "metadata": {},
   "outputs": [],
   "source": [
    "df_rank = RankScore(ABT_SCORED,'Score','Survived',bins=10)"
   ]
  },
  {
   "cell_type": "code",
   "execution_count": null,
   "metadata": {},
   "outputs": [],
   "source": [
    "df_rank"
   ]
  },
  {
   "cell_type": "code",
   "execution_count": null,
   "metadata": {},
   "outputs": [],
   "source": [
    "# Libraries\n",
    "import numpy as np\n",
    "import matplotlib.pyplot as plt\n",
    "\n",
    "# Make a random dataset:\n",
    "height = df_rank.tx_evento\n",
    "bars = df_rank.id_ranks\n",
    "y_pos = np.arange(len(bars))\n",
    "\n",
    "plt.figure(figsize=(12, 7))\n",
    "plt.rcParams.update({'font.size': 15})\n",
    "# Create bars\n",
    "plt.bar(y_pos, height)\n",
    "\n",
    "# Create names on the x-axis\n",
    "plt.xticks(y_pos, bars)\n",
    "\n",
    "# setting label of y-axis\n",
    "plt.ylabel(\"Taxa de Evento\")\n",
    " \n",
    "# setting label of x-axis\n",
    "plt.xlabel(\"Faixas de Score\")\n",
    "plt.title(\"Ordenação do Score\")\n",
    "\n",
    "# Show graphic\n",
    "plt.show()"
   ]
  },
  {
   "cell_type": "code",
   "execution_count": null,
   "metadata": {},
   "outputs": [],
   "source": []
  }
 ],
 "metadata": {
  "kernelspec": {
   "display_name": "base",
   "language": "python",
   "name": "python3"
  },
  "language_info": {
   "codemirror_mode": {
    "name": "ipython",
    "version": 3
   },
   "file_extension": ".py",
   "mimetype": "text/x-python",
   "name": "python",
   "nbconvert_exporter": "python",
   "pygments_lexer": "ipython3",
   "version": "3.9.13"
  },
  "orig_nbformat": 4,
  "vscode": {
   "interpreter": {
    "hash": "40d3a090f54c6569ab1632332b64b2c03c39dcf918b08424e98f38b5ae0af88f"
   }
  }
 },
 "nbformat": 4,
 "nbformat_minor": 2
}
